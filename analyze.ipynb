{
 "cells": [
  {
   "cell_type": "code",
   "execution_count": 10,
   "metadata": {},
   "outputs": [],
   "source": [
    "\n",
    "import numpy as np\n",
    "import csv\n",
    "import os\n",
    "\n",
    "import matplotlib.pyplot as plt\n",
    "\n",
    "# Import data\n",
    "\n",
    "def main():\n",
    "    filenames_path = \"./data\"\n",
    "    filenames = [os.path.join(filenames_path, filename) for filename in os.listdir(filenames_path) if filename.endswith(\".csv\")]\n",
    "\n",
    "    rows = [row for filename in filenames for row in file_rows(filename)]\n",
    "\n",
    "    durations = [int(row[0]) for row in rows]\n",
    "    start_times = [parse_timestr(row[1]) for row in rows]\n",
    "    end_times = [parse_timestr(row[2]) for row in rows]\n",
    "    #count_multiday_trips(start_times, end_times)\n",
    "    # In fact, many people check out bikes late at night one day\n",
    "    # and bike until the next day begins\n",
    "\n",
    "    start_stations = [int(row[3]) for row in rows]\n",
    "    end_stations = [int(row[5]) for row in rows]\n",
    "    # note that stations get added to the program over time\n",
    "    # columns 4,6 contain text representation of the numbers in columns 3,5\n",
    "\n",
    "    bike_numbers = [bike_num(row[7]) for row in rows]\n",
    "    # Some are None, the data is messy\n",
    "    #assert_bike_numbers(bike_numbers)\n",
    "\n",
    "    # Every membertype is \"member\"\n",
    "    #member_types = [row[8] for row in rows]\n",
    "    #assert_member_types(member_types)\n",
    "    \n",
    "    return start_times\n",
    "\n",
    "\n",
    "\n",
    "def bike_num(s):\n",
    "    if s[0] == \"W\" or s[0] == \"w\":\n",
    "        return int(s[1:])\n",
    "    return None\n",
    "\n",
    "def count_multiday_trips(start_times, end_times):\n",
    "    num = 0\n",
    "    for a,b in zip(start_times, end_times):\n",
    "        if a[0] != b[0]:\n",
    "            num += 1\n",
    "    print(\"The proportion of trips which are multiday is\", num/len(start_times))\n",
    "\n",
    "def assert_member_types(member_types):\n",
    "    for type in member_types:\n",
    "        assert type == \"Member\"\n",
    "\n",
    "def assert_bike_numbers(bike_numbers):\n",
    "    for number in bike_numbers:\n",
    "        assert int(str(number)) == number\n",
    "\n",
    "# Returns 2: date (str), time as # absolute seconds since midnight (int)\n",
    "def parse_timestr(instr):\n",
    "    instrs = instr.split(' ')\n",
    "    # datestr, timestr\n",
    "    h, m, s = instrs[1].split(':')\n",
    "    return instrs[0], int(h) * 3600 + int(m) * 60 + int(s)\n",
    "\n",
    "def file_rows(filename):\n",
    "    with open(filename) as csvfile:\n",
    "        rows = [row for row in csv.reader(csvfile)]\n",
    "    # keys = rows[0]\n",
    "    print(rows[0:5])\n",
    "    return rows[1:]\n",
    "\n",
    "\n",
    "\n",
    "\n"
   ]
  },
  {
   "cell_type": "code",
   "execution_count": 15,
   "metadata": {},
   "outputs": [],
   "source": [
    "from copy import deepcopy\n",
    "\n",
    "def plot_day_ranges(start_times):\n",
    "    day_ranges = []\n",
    "    \n",
    "    daystr = \"\"\n",
    "    day_range = []\n",
    "    for (i, time) in enumerate(start_times):\n",
    "        if daystr != time[0]:\n",
    "            daystr = time[0]\n",
    "            day_ranges.append(deepcopy(day_range))\n",
    "            day_range = []\n",
    "        day_range.append(i)\n",
    "    \n",
    "    ndays = len(day_ranges)\n",
    "    day_range_lens = [len(dr) for dr in day_ranges]\n",
    "    print(len(day_ranges), sum(day_range_lens)/ndays )\n",
    "    #scipy.stats.linregress()\n",
    "    \n",
    "    # https://matplotlib.org/gallery/statistics/hist.html\n",
    "    fig, axs = plt.subplots(1, 2, sharey=True, tight_layout=True)\n",
    "\n",
    "    # We can set the number of bins with the `bins` kwarg\n",
    "    axs[0].hist(day_range_lens, bins=ndays)\n",
    "    axs[1].hist(day_range_lens, bins=ndays)\n"
   ]
  },
  {
   "cell_type": "code",
   "execution_count": 12,
   "metadata": {},
   "outputs": [
    {
     "name": "stdout",
     "output_type": "stream",
     "text": [
      "[['Duration', 'Start date', 'End date', 'Start station number', 'Start station', 'End station number', 'End station', 'Bike number', 'Member type'], ['1012', '2010-09-20 11:27:04', '2010-09-20 11:43:56', '31208', 'M St & New Jersey Ave SE', '31108', '4th & M St SW', 'W00742', 'Member'], ['61', '2010-09-20 11:41:22', '2010-09-20 11:42:23', '31209', '1st & N St  SE', '31209', '1st & N St  SE', 'W00032', 'Member'], ['2690', '2010-09-20 12:05:37', '2010-09-20 12:50:27', '31600', '5th & K St NW', '31100', '19th St & Pennsylvania Ave NW', 'W00993', 'Member'], ['1406', '2010-09-20 12:06:05', '2010-09-20 12:29:32', '31600', '5th & K St NW', '31602', 'Park Rd & Holmead Pl NW', 'W00344', 'Member']]\n",
      "[['Duration', 'Start date', 'End date', 'Start station number', 'Start station', 'End station number', 'End station', 'Bike number', 'Member type'], ['3548', '2011-01-01 00:01:29', '2011-01-01 01:00:37', '31620', '5th & F St NW', '31620', '5th & F St NW', 'W00247', 'Member'], ['346', '2011-01-01 00:02:46', '2011-01-01 00:08:32', '31105', '14th & Harvard St NW', '31101', '14th & V St NW', 'W00675', 'Casual'], ['562', '2011-01-01 00:06:13', '2011-01-01 00:15:36', '31400', 'Georgia & New Hampshire Ave NW', '31104', 'Adams Mill & Columbia Rd NW', 'W00357', 'Member'], ['434', '2011-01-01 00:09:21', '2011-01-01 00:16:36', '31111', '10th & U St NW', '31503', 'Florida Ave & R St NW', 'W00970', 'Member']]\n"
     ]
    }
   ],
   "source": [
    "start_times = main()\n"
   ]
  },
  {
   "cell_type": "code",
   "execution_count": 16,
   "metadata": {},
   "outputs": [
    {
     "name": "stdout",
     "output_type": "stream",
     "text": [
      "468 2863.0491452991455\n"
     ]
    },
    {
     "data": {
      "image/png": "[encoded data removed]",
      "text/plain": [
       "<Figure size 432x288 with 2 Axes>"
      ]
     },
     "metadata": {
      "needs_background": "light"
     },
     "output_type": "display_data"
    }
   ],
   "source": [
    "plot_day_ranges(start_times)\n"
   ]
  },
  {
   "cell_type": "code",
   "execution_count": 14,
   "metadata": {},
   "outputs": [
    {
     "name": "stdout",
     "output_type": "stream",
     "text": [
      "1342364\n"
     ]
    }
   ],
   "source": [
    "print(len(start_times))"
   ]
  },
  {
   "cell_type": "code",
   "execution_count": null,
   "metadata": {},
   "outputs": [],
   "source": []
  }
 ],
 "metadata": {
  "kernelspec": {
   "display_name": "Python 3",
   "language": "python",
   "name": "python3"
  },
  "language_info": {
   "codemirror_mode": {
    "name": "ipython",
    "version": 3
   },
   "file_extension": ".py",
   "mimetype": "text/x-python",
   "name": "python",
   "nbconvert_exporter": "python",
   "pygments_lexer": "ipython3",
   "version": "3.6.2"
  }
 },
 "nbformat": 4,
 "nbformat_minor": 2
}
