{
 "cells": [
  {
   "cell_type": "markdown",
   "metadata": {},
   "source": [
    "# BH Procedures for Permutation Tests\n",
    "\n",
    "This code is organized as follows.\n",
    "\n",
    "We first read in bikeshare data, in two formats. One format is consolidated data about traffic for a given station&day tuple. The second format is raw information about every single recorded ride.\n",
    "There is then code to read in p-values; these p-values were provided by Jay in CSV format.\n",
    "\n",
    "The result of data input is several dictionaries. One stores every specific rides which occured on a station&day ($station\\_date\\_rides$). Another several dictionaries store the p-value of each of the 142 stations ($pv\\_dictss$).\n",
    "\n",
    "Using these dictionaries, we run three families of BH, as described in the paper. Ordinary Storey-BH (over several gammas), Group-Adaptive BH (GA-BH) based on average trip duration over  several group sizes, and GA-BH based on average membership level over several group sizes.\n",
    "\n",
    "For each instance of BH, we produce a list of rejections. Code at the end processes and visualizes these rejections. We can output the rejections into a CSV, with location data of stations, to create maps. We created maps with https://app.datawrapper.de.\n",
    "\n",
    "## Required files:\n",
    "\n",
    "View this full workspace at https://github.com/dnoursi/rental-traffic-analysis. The full repo can be cloned and executed. It contains all necessary files except for $raw\\_2010.csv$ and $raw\\_2011.csv$, which are publicly available. Some (particularly in /pvalues/, as well as some consolidated station/day data) were produced by my partners."
   ]
  },
  {
   "cell_type": "code",
   "execution_count": 2,
   "metadata": {},
   "outputs": [],
   "source": [
    "import numpy as np\n",
    "import csv\n",
    "\n",
    "import os\n",
    "\n",
    "import matplotlib.pyplot as plt\n",
    "from copy import deepcopy\n",
    "\n",
    "#import collections\n",
    "\n"
   ]
  },
  {
   "cell_type": "code",
   "execution_count": 3,
   "metadata": {},
   "outputs": [],
   "source": [
    "\n",
    "def obtain_data(train_bool=True):\n",
    "    if train_bool:\n",
    "        volume_filename = \"volume_train.csv\"\n",
    "    else:\n",
    "        volume_filename = \"volume_test.csv\"\n",
    "\n",
    "    with open(volume_filename) as csvfile:\n",
    "        rows = [row for row in csv.DictReader(csvfile)]\n",
    "\n",
    "    fields = set([k for (k,_) in rows[0].items()])\n",
    "    print(\"Fields:\", fields)\n",
    "\n",
    "    with open(\"raw_2010.csv\") as csvfile:\n",
    "        raw_rows = [row for row in csv.DictReader(csvfile)]\n",
    "    with open(\"raw_2011.csv\") as csvfile:\n",
    "        raw_rows += [row for row in csv.DictReader(csvfile)]\n",
    "    \n",
    "    return rows, raw_rows\n",
    "    \n"
   ]
  },
  {
   "cell_type": "code",
   "execution_count": 4,
   "metadata": {},
   "outputs": [],
   "source": [
    "# pvalues = {}\n",
    "# key: station #\n",
    "# value: p value\n",
    "def obtain_pvalues(exp_num=2, train_bool=True):\n",
    "    pv_fnames = [\"ExtremeTempTraffic\",\"TempTraffic\",\"WeatherTraffic\",\"WeekendWeekday\",\"Percipitation\"]\n",
    "    fname = pv_fnames[exp_num]\n",
    "\n",
    "    if train_bool:\n",
    "        fname += \"_Train\"\n",
    "    else:\n",
    "        fname += \"_Test\"\n",
    "    \n",
    "    filename = os.path.join(\"pvalues\", fname +\".csv\")\n",
    "    with open(filename) as csvfile:\n",
    "        pvalues = {(row[\"stations\"]): float(row[\"station.p.vals\"]) for row in csv.DictReader(csvfile)}\n",
    "    \n",
    "    return pvalues\n",
    "\n"
   ]
  },
  {
   "cell_type": "markdown",
   "metadata": {},
   "source": [
    "# Process Raw Inputted Data & Run Various BH Forms"
   ]
  },
  {
   "cell_type": "code",
   "execution_count": 5,
   "metadata": {},
   "outputs": [],
   "source": [
    "\n",
    "# SDR: Station Date Rides\n",
    "\n",
    "# key: (station, date)\n",
    "# value: list of indices of raw data \n",
    "def obtain_sdr(raw_rows):\n",
    "    station_date_rides = {}\n",
    "    for i,row in enumerate(raw_rows):\n",
    "        date = row[\"Start date\"].split(\" \")[0]\n",
    "\n",
    "        station = row[\"Start station number\"]\n",
    "        if not (station, date) in station_date_rides.keys():\n",
    "            station_date_rides[(station, date)] = []\n",
    "        station_date_rides[(station, date)].append(i)\n",
    "\n",
    "        station = row[\"End station number\"]\n",
    "        if not (station, date) in station_date_rides.keys():\n",
    "            station_date_rides[(station, date)] = []\n",
    "        station_date_rides[(station, date)].append(i)\n",
    "    return station_date_rides\n",
    "\n",
    "# For my project partners\n",
    "\n",
    "# Output to CSV with 1-indexing, for correct use in R\n",
    "def output_sdr_csv():\n",
    "    station_date_rides = obtain_sdr()\n",
    "    \n",
    "    # use i+1 so that indexing is as in R\n",
    "    for k, ilist in station_date_rides.items():\n",
    "        ilist = [i+1 for i in ilist]\n",
    "\n",
    "    with open(\"station_date_trips.csv\", \"w+\") as outfile:\n",
    "        #wrt = csv.writer(outfile)# quoting=csv.QUOTE_NONE)\n",
    "        wrt = csv.writer(outfile, quoting=csv.QUOTE_ALL)\n",
    "        wrt.writerow([\"Station\", \"Date\", \"Trips\"])\n",
    "        for k,val in station_date_rides.items():\n",
    "            station, date = k\n",
    "            third = \" \".join(tuple(str(v) for v in val))\n",
    "            #wrt.writerow([station, date, '\"' + third + '\"'])\n",
    "            wrt.writerow([station, date,third])\n",
    "    "
   ]
  },
  {
   "cell_type": "code",
   "execution_count": 6,
   "metadata": {},
   "outputs": [],
   "source": [
    "\n",
    "# key: station\n",
    "# value: dict of daily traffic values with: \n",
    "#   (key: date, val: traffic level value)\n",
    "def obtain_station_days_traffic(rows):\n",
    "    station_days = {}\n",
    "    for row in rows:\n",
    "        station = row[\"Station\"]\n",
    "        if not station in station_days.keys():\n",
    "            station_days[station] = {}\n",
    "        date = row[\"Date\"]\n",
    "        station_days[station][date] = row[\"X\"]\n",
    "    return station_days\n",
    "    \n",
    "# Return indices of those discoveries made\n",
    "def bh(pv_dict, alpha=.05, storey=False, gamma=0.5, printing=False):\n",
    "    if storey:\n",
    "        alpha /= storey_pihat(pv_dict, gamma=gamma)\n",
    "        \n",
    "    n = float(len(pv_dict))\n",
    "    k = int(n) -1\n",
    "    pvs = [(p,i) for i,p in pv_dict.items()]\n",
    "    pvs.sort()\n",
    "    while not pvs[k-1][0] <= (alpha*k)/n:\n",
    "        if printing:\n",
    "            print(pvs[k-1][0], (alpha*k)/n)\n",
    "        k -= 1\n",
    "        if k == 0:\n",
    "            break\n",
    "    return [pv[1] for pv in pvs[:k]]\n",
    "\n",
    "def storey_pihat(pv_dict, gamma=0.5):\n",
    "    num = 0.\n",
    "    for _, pv in pv_dict.items():\n",
    "        if pv > gamma:\n",
    "            num += 1.\n",
    "    denom = len(pv_dict) * (1.-gamma)\n",
    "    pihat = min(num/denom, 1)\n",
    "    return pihat\n",
    "    \n",
    "#  function\n",
    "def group_adaptive_bh(pv_dict, groups_indices, alpha=.05, gamma=0.5):    \n",
    "    groups = [{i:pv_dict[i] for i in gi} for gi in groups_indices]\n",
    "    # Pi hat for each group\n",
    "    group_pi_hats = [storey_pihat(group) for group in groups]\n",
    "\n",
    "    for i,group in enumerate(groups_indices):\n",
    "        for j in group:\n",
    "            pv_dict[j] *= group_pi_hats[i]\n",
    "            \n",
    "    for i,p in pv_dict.items():\n",
    "        if p > gamma:\n",
    "            pv_dict[i] = np.infty\n",
    "\n",
    "    # Now do ordinary BH on mod_p_vector\n",
    "    return bh(pv_dict, alpha)\n",
    "\n",
    "def old_group_adaptive_bh(p_vector, groups_indices, alpha=.05, gamma=0.5):    \n",
    "    groups = [[p_vector[i] for i in gi] for gi in groups_indices]\n",
    "    # Pi hat for each group\n",
    "    group_pi_hats = [storey_pihat(group) for group in groups]\n",
    "\n",
    "    for i,group in enumerate(groups_indices):\n",
    "        for j in group:\n",
    "            p_vector[j] *= group_pi_hats[i]\n",
    "            \n",
    "    for i,p in enumerate(p_vector):\n",
    "        if p > gamma:\n",
    "            p_vector[i] = np.infty\n",
    "\n",
    "    # Now do ordinary BH on mod_p_vector\n",
    "    return bh(p_vector, alpha)\n",
    "    \n",
    "    \n",
    "    "
   ]
  },
  {
   "cell_type": "markdown",
   "metadata": {},
   "source": [
    "# Obtain groups based on duration or average membership rate\n",
    "\n",
    "These require using the raw data."
   ]
  },
  {
   "cell_type": "code",
   "execution_count": 7,
   "metadata": {},
   "outputs": [],
   "source": [
    "# station_days contains train vs test information\n",
    "# tells us which subset of raw_rows to use\n",
    "#def obtain_raw_subset(raw_rows, station_days)\n",
    "\n",
    "\n",
    "def obtain_duration_groups(rows, raw_rows, station_date_rides, ngroups=5):\n",
    "    # key: station\n",
    "    # value: (total duration, number of trips)\n",
    "    # then can compute avg by taking v[0]/v[1]\n",
    "    station_durations = {}\n",
    "    for row in rows:\n",
    "        station = row[\"Station\"]\n",
    "        date = row[\"Date\"]    \n",
    "        if (station, date) in station_date_rides:\n",
    "            \n",
    "            if not station in station_durations.keys():\n",
    "                station_durations[station] = [0,0]\n",
    "\n",
    "            total_duration = 0\n",
    "            \n",
    "            for i in station_date_rides[(station, date)]:\n",
    "                total_duration += float(raw_rows[i][\"Duration\"])\n",
    "\n",
    "            station_durations[station][0] += total_duration\n",
    "            station_durations[station][1] += len(station_date_rides[(station, date)])\n",
    "    \n",
    "    sort_station_durations = [(v[0]/v[1],k) for k,v in station_durations.items()]\n",
    "    sort_station_durations.sort()\n",
    "    #sort_station_durations_names = sort_station_durations\n",
    "    sort_station_durations_names = [k for (_,k) in sort_station_durations]\n",
    "    \n",
    "    nstations = len(sort_station_durations_names)\n",
    "    ratio = int(nstations/ngroups)\n",
    "    \n",
    "    groups = []\n",
    "    for i in range(ngroups):\n",
    "        groups.append(sort_station_durations_names[ratio*i:ratio*(i+1)])\n",
    "    # fill the last group with stragglers, if rounding error on indices\n",
    "    groups[-1] += sort_station_durations_names[ratio*ngroups:]\n",
    "    return groups\n",
    "\n",
    "def obtain_membership_groups(rows, raw_rows, station_date_rides, ngroups=5):\n",
    "    # key: station\n",
    "    # value: (number of member trips, total number of trips)\n",
    "    # then can compute rate of membership by taking v[0]/v[1]\n",
    "    station_rates = {}\n",
    "    for row in rows:\n",
    "        station = row[\"Station\"]\n",
    "        date = row[\"Date\"]    \n",
    "        if (station, date) in station_date_rides:\n",
    "            \n",
    "            if not station in station_rates.keys():\n",
    "                station_rates[station] = [0,0]\n",
    "\n",
    "        \n",
    "            member_rides = 0\n",
    "            \n",
    "            for i in station_date_rides[(station, date)]:\n",
    "                member_rides += (raw_rows[i][\"Member type\"] == \"Member\")\n",
    "\n",
    "            station_rates[station][0] += member_rides\n",
    "            station_rates[station][1] += len(station_date_rides[(station, date)])\n",
    "        \n",
    "    \n",
    "    sort_station_durations = [(v[0]/v[1],k) for k,v in station_rates.items()]\n",
    "    sort_station_durations.sort()\n",
    "    #sort_station_durations_names = sort_station_durations\n",
    "    sort_station_durations_names = [k for (_,k) in sort_station_durations]\n",
    "    \n",
    "    nstations = len(sort_station_durations_names)\n",
    "    ratio = int(nstations/ngroups)\n",
    "    \n",
    "    groups = []\n",
    "    for i in range(ngroups):\n",
    "        groups.append(sort_station_durations_names[ratio*i:ratio*(i+1)])\n",
    "    # fill the last group with stragglers, if rounding error on indices\n",
    "    groups[-1] += sort_station_durations_names[ratio*ngroups:]\n",
    "    return groups\n",
    "\n",
    "    "
   ]
  },
  {
   "cell_type": "code",
   "execution_count": 8,
   "metadata": {},
   "outputs": [],
   "source": [
    "ngroupss = [2,4,6,8,10]\n",
    "gammas = [.2,.3,.4,.5,.6,.7,.8]"
   ]
  },
  {
   "cell_type": "code",
   "execution_count": 9,
   "metadata": {},
   "outputs": [],
   "source": [
    "\n",
    "def execute_all(rows, raw_rows, station_date_rides, train_bool=True):\n",
    "    alpha=.05\n",
    "    results = []\n",
    "    pv_dicts = []\n",
    "\n",
    "    duration_groupss = []\n",
    "    membership_groupss = []\n",
    "\n",
    "    pv_dict = obtain_pvalues(exp_num=0, train_bool=train_bool)\n",
    "    dcp = deepcopy(station_date_rides)\n",
    "    for (station, date) in dcp:\n",
    "        if not station in pv_dict:\n",
    "            station_date_rides.pop((station, date))\n",
    "    \n",
    "    for n in ngroupss:\n",
    "        duration_groups = obtain_duration_groups(rows, raw_rows, station_date_rides, ngroups=n)\n",
    "        #duration_groups = [[int(g) for g in group] for group in duration_groups]\n",
    "        duration_groupss.append(duration_groups)\n",
    "\n",
    "        membership_groups = obtain_membership_groups(rows, raw_rows, station_date_rides, ngroups=n)\n",
    "        #membership_groups = [[int(g) for g in group] for group in membership_groups]\n",
    "        membership_groupss.append(membership_groups)\n",
    "\n",
    "    for exp_num in range(5):\n",
    "        pv_dict = obtain_pvalues(exp_num=exp_num, train_bool=train_bool)\n",
    "        pv_dicts.append(pv_dict)\n",
    "        \n",
    "        result = []\n",
    "        \n",
    "        for gamma in gammas:\n",
    "            result.append(bh(deepcopy(pv_dict), alpha=alpha, storey=True, gamma=gamma))\n",
    "        for duration_groups in duration_groupss:\n",
    "            result.append(group_adaptive_bh(deepcopy(pv_dict), duration_groups, alpha=alpha))\n",
    "        for membership_groups in membership_groupss:\n",
    "            result.append(group_adaptive_bh(deepcopy(pv_dict), membership_groups, alpha=alpha))\n",
    "        results.append(result)\n",
    "        \n",
    "    return results, pv_dicts\n",
    "        \n",
    "\n",
    "        \n",
    "def old_analyze_results(results):\n",
    "    rejections_dicts = []\n",
    "    for result in results:\n",
    "        rlens = [len(r) for r in result]\n",
    "        minn = min(rlens)\n",
    "        maxx = max(rlens)\n",
    "        print(\"min, max:\", minn, maxx)\n",
    "        print(rlens)\n",
    "\n"
   ]
  },
  {
   "cell_type": "code",
   "execution_count": 10,
   "metadata": {},
   "outputs": [],
   "source": [
    "# Now actually run experiments\n",
    "\n",
    "train_bool=False\n"
   ]
  },
  {
   "cell_type": "code",
   "execution_count": 11,
   "metadata": {},
   "outputs": [
    {
     "name": "stdout",
     "output_type": "stream",
     "text": [
      "Fields: {'', 'Precip_bin', 'Month_x', 'daily.data.precipProbability', 'daily.data.temperatureLow', 'Wday_bin', 'daily.data.summary', 'Inflow', 'Total', 'Month_y', 'Month', 'daily.data.windSpeed', 'Season', 'daily.data.precipIntensity', 'X', 'daily.data.icon', 'daily.data.apparentTemperatureHigh', 'daily.data.humidity', 'Outflow', 'Station', 'Date', 'daily.data.precipType', 'daily.data.apparentTemperatureLow', 'daily.data.temperatureHigh', 'Hday_bin', 'Wday'}\n"
     ]
    }
   ],
   "source": [
    "rows, raw_rows = obtain_data(train_bool=train_bool)\n"
   ]
  },
  {
   "cell_type": "code",
   "execution_count": 12,
   "metadata": {},
   "outputs": [],
   "source": [
    "station_date_rides = obtain_sdr(raw_rows)\n"
   ]
  },
  {
   "cell_type": "code",
   "execution_count": 13,
   "metadata": {},
   "outputs": [],
   "source": [
    "results, pv_dicts = execute_all(rows, raw_rows, station_date_rides, train_bool=train_bool)"
   ]
  },
  {
   "cell_type": "code",
   "execution_count": 14,
   "metadata": {},
   "outputs": [],
   "source": [
    "def analyze_results(results):\n",
    "    rejections_dicts = []\n",
    "    for result in results:\n",
    "        rlens = [len(r) for r in result]\n",
    "        #print(result)\n",
    "        \n",
    "        fig, axes = plt.subplots(ncols=3, nrows=1, sharey=True, figsize=(16,6))\n",
    "        #fig, axes = plt.subplots(ncols=3, nrows=1, sharey=True)\n",
    "        #plt.title(\"Random graphs in \\R^2 for\", loc=\"center\")\n",
    "        ax1, ax2, ax3 = axes.ravel()\n",
    "\n",
    "        ymin = min(rlens) * .9\n",
    "        ymax = max(rlens) * 1.05\n",
    "        ax1.set_ylim(bottom = ymin, top = ymax)\n",
    "        ax2.set_ylim(bottom = ymin, top = ymax)\n",
    "        ax3.set_ylim(bottom = ymin, top = ymax)\n",
    "        \n",
    "        ngammas = len(gammas)\n",
    "        rangegammas = range(ngammas)\n",
    "\n",
    "        ax1.bar(x=rangegammas, height=rlens[:ngammas], color=\"r\")\n",
    "        ax1.set_xticks( rangegammas, minor=False)\n",
    "        storey_ticks = [str(gamma) for gamma in gammas]\n",
    "        ax1.set_xticklabels( storey_ticks, fontdict=None, minor=False)\n",
    "        ax1.set_ylabel(\"Number of Discoveries\")\n",
    "        ax1.set_title(\"Ordinary Storey-BH\")\n",
    "        ax1.set_xlabel(\"Storey Gamma\")\n",
    "        \n",
    "        nngroupss = len(ngroupss)\n",
    "        rangengroups = range(len(ngroupss))\n",
    "        \n",
    "        ax2.bar(x=rangengroups, height=rlens[ngammas:ngammas+nngroupss], color=\"b\")\n",
    "        ax2.set_xticks(rangengroups, minor=False)\n",
    "        gs_ticks = [str(ngroups) for ngroups in ngroupss]\n",
    "        ax2.set_xticklabels( gs_ticks, fontdict=None, minor=False)\n",
    "        ax2.set_title(\"Group Adaptive by Duration\")\n",
    "        ax2.set_xlabel(\"Number of Groups\")\n",
    "\n",
    "        ax3.bar(x = rangengroups, height=rlens[ngammas+nngroupss:], color=\"g\")\n",
    "        ax3.set_xticks( rangengroups , minor=False)\n",
    "        ax3.set_xticklabels( gs_ticks, fontdict=None, minor=False)\n",
    "        ax3.set_title(\"Group Adaptive by Membership Rate\")\n",
    "        ax3.set_xlabel(\"Number of Groups\")\n"
   ]
  },
  {
   "cell_type": "code",
   "execution_count": 15,
   "metadata": {},
   "outputs": [
    {
     "data": {
      "image/png": "[encoded data removed]",
      "text/plain": [
       "<Figure size 1152x432 with 3 Axes>"
      ]
     },
     "metadata": {
      "needs_background": "light"
     },
     "output_type": "display_data"
    },
    {
     "data": {
      "image/png": "[encoded data removed]",
      "text/plain": [
       "<Figure size 1152x432 with 3 Axes>"
      ]
     },
     "metadata": {
      "needs_background": "light"
     },
     "output_type": "display_data"
    },
    {
     "data": {
      "image/png": "[encoded data removed]",
      "text/plain": [
       "<Figure size 1152x432 with 3 Axes>"
      ]
     },
     "metadata": {
      "needs_background": "light"
     },
     "output_type": "display_data"
    },
    {
     "data": {
      "image/png": "[encoded data removed]",
      "text/plain": [
       "<Figure size 1152x432 with 3 Axes>"
      ]
     },
     "metadata": {
      "needs_background": "light"
     },
     "output_type": "display_data"
    },
    {
     "data": {
      "image/png": "[encoded data removed]",
      "text/plain": [
       "<Figure size 1152x432 with 3 Axes>"
      ]
     },
     "metadata": {
      "needs_background": "light"
     },
     "output_type": "display_data"
    }
   ],
   "source": [
    "\n",
    "#print(pv_dict['31708'])\n",
    "analyze_results(results)\n",
    "#print(results, pv_dicts)\n",
    "\n"
   ]
  },
  {
   "cell_type": "code",
   "execution_count": 16,
   "metadata": {},
   "outputs": [
    {
     "data": {
      "text/plain": [
       "Text(0.5, 1.0, 'P-Value Histogram')"
      ]
     },
     "execution_count": 16,
     "metadata": {},
     "output_type": "execute_result"
    },
    {
     "data": {
      "image/png": "[encoded data removed]",
      "text/plain": [
       "<Figure size 432x288 with 1 Axes>"
      ]
     },
     "metadata": {
      "needs_background": "light"
     },
     "output_type": "display_data"
    }
   ],
   "source": [
    "# We want a histogram for exp_num=2, where we made no discoveries\n",
    "\n",
    "pv_dict = obtain_pvalues(exp_num=2, train_bool=train_bool)\n",
    "pvlist = [p for _,p in pv_dict.items()]\n",
    "plt.hist(pvlist)\n",
    "plt.xlabel(\"P-Value range\")\n",
    "plt.ylabel(\"Number of of occurances\")\n",
    "plt.title(\"P-Value Histogram\")\n"
   ]
  },
  {
   "cell_type": "code",
   "execution_count": 17,
   "metadata": {},
   "outputs": [],
   "source": [
    "def parse_loc_data(rejections, i):\n",
    "    \n",
    "    with open(\"location_data.csv\") as csvfile:\n",
    "        rows = [row for row in csv.DictReader(csvfile)]\n",
    "    print(rejections)\n",
    "    results = []\n",
    "    for row in rows:\n",
    "        rej = bool(str(row[\"Station.num\"]) in rejections)\n",
    "        #print(rej, str(row[\"Station.num\"]))\n",
    "        result = [row[\"Latitude\"], row[\"Longitude\"], str(rej)] \n",
    "        results.append(result)\n",
    "    \n",
    "    with open(\"loc_coords_{}.csv\".format((i)), \"w+\") as outfile:\n",
    "        wrt = csv.writer(outfile, quoting=csv.QUOTE_NONE)\n",
    "        wrt.writerow([\"Lat\", \"Lon\", \"Rejected\"])\n",
    "        for result in results:\n",
    "            wrt.writerow(result)\n",
    "#parse_loc_data()"
   ]
  },
  {
   "cell_type": "code",
   "execution_count": 18,
   "metadata": {},
   "outputs": [
    {
     "name": "stdout",
     "output_type": "stream",
     "text": [
      "['31007', '31009', '31011', '31012', '31100', '31204', '31205', '31206', '31207', '31212', '31213', '31216', '31220', '31221', '31224', '31227', '31233', '31238', '31262', '31266', '31301', '31505', '31623', '31624', '31801', '31802', '31804', '31218', '31603', '31208', '31620', '31052']\n",
      "['31007', '31011', '31012', '31205', '31206', '31212', '31227', '31233', '31266', '31624', '31801', '31802', '31804', '31009', '31100', '31204', '31207', '31213', '31216', '31220', '31221', '31224', '31238', '31262', '31301', '31505', '31623', '31218', '31603', '31208', '31620', '31052', '31000']\n"
     ]
    }
   ],
   "source": [
    "# Set true to output csv for maps\n",
    "if True:\n",
    "    rejections = [] \n",
    "    # exp1: extreme temp\n",
    "    # exp1, ord bh, gamma=.4\n",
    "    # exp1, duration gps, ngp = 6\n",
    "\n",
    "    #rejections.append(results[0][2])\n",
    "    #rejections.append(results[0][9])\n",
    "    \n",
    "    # exp5: percip\n",
    "    # exp5, ord bh, gamma=.5\n",
    "    # exp5, member gps, ngp = 6\n",
    "\n",
    "    #rejections.append(results[4][3])\n",
    "    #rejections.append(results[4][14])\n",
    "\n",
    "    # exp 4: weekend weekday\n",
    "    rejections.append(results[3][3])\n",
    "    rejections.append(results[3][9])\n",
    "    for i,r in enumerate(rejections):\n",
    "        parse_loc_data(r, str(i))\n"
   ]
  },
  {
   "cell_type": "code",
   "execution_count": null,
   "metadata": {},
   "outputs": [],
   "source": [
    "\n",
    "\n",
    "\n"
   ]
  },
  {
   "cell_type": "code",
   "execution_count": null,
   "metadata": {},
   "outputs": [],
   "source": []
  },
  {
   "cell_type": "code",
   "execution_count": null,
   "metadata": {},
   "outputs": [],
   "source": []
  }
 ],
 "metadata": {
  "kernelspec": {
   "display_name": "Python 3",
   "language": "python",
   "name": "python3"
  },
  "language_info": {
   "codemirror_mode": {
    "name": "ipython",
    "version": 3
   },
   "file_extension": ".py",
   "mimetype": "text/x-python",
   "name": "python",
   "nbconvert_exporter": "python",
   "pygments_lexer": "ipython3",
   "version": "3.6.2"
  }
 },
 "nbformat": 4,
 "nbformat_minor": 2
}
